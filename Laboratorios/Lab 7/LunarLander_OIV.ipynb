{
 "cells": [
  {
   "cell_type": "code",
   "execution_count": 6,
   "metadata": {},
   "outputs": [],
   "source": [
    "#Valores iniciales optimistas\n",
    "import gym\n",
    "import numpy as np\n",
    "import matplotlib.pyplot as plt\n",
    "import pickle\n",
    "#se crea la clase agente que se encarga de entrenar el modelo y de graficar los resultados\n",
    "class Agent:\n",
    "    #se inicializan los parametros del agente\n",
    "    def __init__(self, env_name, episodes, num_bins=10, learning_rate=0.9, discount_factor=0.95, epsilon=1, epsilon_decay_rate=0.0001, render=False):\n",
    "        self.env = gym.make(env_name, render_mode=\"human\" if render else None)\n",
    "        self.num_bins = num_bins\n",
    "        self.episodes = episodes\n",
    "        self.rewards_per_episode = np.zeros(episodes)\n",
    "        self.learning_rate = learning_rate\n",
    "        self.discount_factor = discount_factor\n",
    "        self.epsilon = epsilon\n",
    "        self.epsilon_decay_rate = epsilon_decay_rate\n",
    "        self.bins = self.create_bins()\n",
    "        self.q_table = np.full([num_bins] * len(self.env.observation_space.low) + [self.env.action_space.n], 10.0)\n",
    "        self.rng = np.random.default_rng()\n",
    "#se crean los bins para discretizar el estado\n",
    "    def create_bins(self):\n",
    "        bins = []\n",
    "        for i in range(len(self.env.observation_space.low)):\n",
    "            bins.append(np.linspace(self.env.observation_space.low[i], self.env.observation_space.high[i], self.num_bins + 1)[1:-1])\n",
    "        return bins\n",
    "#se discretiza el estado\n",
    "    def discretize_state(self, state):\n",
    "        discrete_state = tuple(\n",
    "            np.digitize(state[i], self.bins[i]) - 1 for i in range(len(state))\n",
    "        )\n",
    "        return discrete_state\n",
    "#se elige la accion a tomar\n",
    "    def choose_action(self, state):\n",
    "        discrete_state = self.discretize_state(state)\n",
    "        if self.rng.random() < self.epsilon:\n",
    "            return self.env.action_space.sample()\n",
    "        else:\n",
    "            return np.argmax(self.q_table[discrete_state])\n",
    "#se actualiza la tabla Q\n",
    "#glosario formula del metodo valores iniciales optimistas\n",
    "#Q(s,a) = Q(s,a) + alpha * (reward + gamma * max(Q(s',a')) - Q(s,a))\n",
    "#s = estado actual\n",
    "#a = accion actual\n",
    "#alpha = tasa de aprendizaje\n",
    "#reward = recompensa\n",
    "#gamma = factor de descuento\n",
    "#s' = nuevo estado\n",
    "#a' = nueva accion\n",
    "#Q(s,a) = valor de la tabla Q para el estado actual y la accion actual\n",
    "#Q(s',a') = valor de la tabla Q para el nuevo estado y la nueva accion\n",
    "#max(Q(s',a')) = valor maximo de la tabla Q para el nuevo estado\n",
    "#se actualiza la tabla Q con la formula de valores iniciales\n",
    "#Q(s,a) = Q(s,a) + alpha * (reward + gamma * max(Q(s',a')) - Q(s,a))\n",
    "\n",
    "    def update_q_table(self, state, action, reward, new_state):\n",
    "        discrete_state = self.discretize_state(state)\n",
    "        new_discrete_state = self.discretize_state(new_state)\n",
    "        self.q_table[discrete_state + (action,)] += self.learning_rate * (\n",
    "            reward + self.discount_factor * np.max(self.q_table[new_discrete_state]) - self.q_table[discrete_state + (action,)]\n",
    "        )\n",
    "#se entrena el modelo\n",
    "    def train(self, is_training=True, render=False):\n",
    "        env = gym.make(\"LunarLander-v2\", render_mode=\"human\" if render else None)\n",
    "        if not is_training:\n",
    "            with open(\"lunar_lander_OIV.pkl\", \"rb\") as f:\n",
    "                self.q_table = pickle.load(f)\n",
    "\n",
    "        for i in range(self.episodes):\n",
    "            state = env.reset()[0]\n",
    "            terminated = False\n",
    "            truncated = False\n",
    "\n",
    "            while not terminated and not truncated:\n",
    "                action = self.choose_action(state)\n",
    "                new_state, reward, terminated, truncated, _ = env.step(action)\n",
    "\n",
    "                if is_training:\n",
    "                    self.update_q_table(state, action, reward, new_state)\n",
    "\n",
    "                state = new_state\n",
    "\n",
    "            self.epsilon = max(self.epsilon - self.epsilon_decay_rate, 0)\n",
    "            self.rewards_per_episode[i] = reward\n",
    "\n",
    "            if (i+1) % 100 == 0:\n",
    "                print(f\"Episode: {i+1} - reward: {self.rewards_per_episode[i]}\") \n",
    "\n",
    "        env.close()\n",
    "\n",
    "        if is_training:\n",
    "            with open(\"lunar_lander_OIV.pkl\", \"wb\") as f:\n",
    "                pickle.dump(self.q_table, f)\n",
    "#se grafican los resultados\n",
    "    def graficar(self):\n",
    "        plt.plot(self.rewards_per_episode)\n",
    "        plt.xlabel(\"Episode\")\n",
    "        plt.ylabel(\"Reward\")\n",
    "        plt.title(\"Lunar Lander\")\n",
    "        plt.show()\n",
    "\n"
   ]
  },
  {
   "cell_type": "code",
   "execution_count": 7,
   "metadata": {},
   "outputs": [
    {
     "name": "stdout",
     "output_type": "stream",
     "text": [
      "Episode: 100 - reward: -100.0\n",
      "Episode: 200 - reward: -100.0\n",
      "Episode: 300 - reward: -100.0\n",
      "Episode: 400 - reward: -100.0\n",
      "Episode: 500 - reward: -100.0\n",
      "Episode: 600 - reward: -100.0\n",
      "Episode: 700 - reward: -100.0\n",
      "Episode: 800 - reward: -100.0\n",
      "Episode: 900 - reward: -100.0\n",
      "Episode: 1000 - reward: -100.0\n",
      "Episode: 1100 - reward: -100.0\n",
      "Episode: 1200 - reward: -100.0\n",
      "Episode: 1300 - reward: -100.0\n",
      "Episode: 1400 - reward: -100.0\n",
      "Episode: 1500 - reward: -100.0\n",
      "Episode: 1600 - reward: -100.0\n",
      "Episode: 1700 - reward: -100.0\n",
      "Episode: 1800 - reward: -100.0\n",
      "Episode: 1900 - reward: -100.0\n",
      "Episode: 2000 - reward: -100.0\n",
      "Episode: 2100 - reward: -100.0\n",
      "Episode: 2200 - reward: -100.0\n",
      "Episode: 2300 - reward: -100.0\n",
      "Episode: 2400 - reward: -100.0\n",
      "Episode: 2500 - reward: -100.0\n",
      "Episode: 2600 - reward: -100.0\n",
      "Episode: 2700 - reward: -100.0\n",
      "Episode: 2800 - reward: -100.0\n",
      "Episode: 2900 - reward: -100.0\n",
      "Episode: 3000 - reward: -100.0\n",
      "Episode: 3100 - reward: -100.0\n",
      "Episode: 3200 - reward: -100.0\n",
      "Episode: 3300 - reward: -100.0\n",
      "Episode: 3400 - reward: -100.0\n",
      "Episode: 3500 - reward: -100.0\n",
      "Episode: 3600 - reward: -100.0\n",
      "Episode: 3700 - reward: -100.0\n",
      "Episode: 3800 - reward: -100.0\n",
      "Episode: 3900 - reward: -100.0\n",
      "Episode: 4000 - reward: -100.0\n",
      "Episode: 4100 - reward: -100.0\n",
      "Episode: 4200 - reward: -100.0\n",
      "Episode: 4300 - reward: -100.0\n",
      "Episode: 4400 - reward: -100.0\n",
      "Episode: 4500 - reward: -100.0\n",
      "Episode: 4600 - reward: -100.0\n",
      "Episode: 4700 - reward: -100.0\n",
      "Episode: 4800 - reward: -100.0\n",
      "Episode: 4900 - reward: -100.0\n",
      "Episode: 5000 - reward: -100.0\n"
     ]
    }
   ],
   "source": [
    "#se entrena el modelo\n",
    "agenteTrain = Agent(env_name=\"LunarLander-v2\", episodes=5000)\n",
    "agenteTrain.train(is_training=True, render=False)"
   ]
  },
  {
   "cell_type": "code",
   "execution_count": 8,
   "metadata": {},
   "outputs": [
    {
     "data": {
      "image/png": "[encoded data removed]",
      "text/plain": [
       "<Figure size 640x480 with 1 Axes>"
      ]
     },
     "metadata": {},
     "output_type": "display_data"
    }
   ],
   "source": [
    "#se grafican los resultados\n",
    "agenteTrain.graficar()"
   ]
  },
  {
   "cell_type": "code",
   "execution_count": 9,
   "metadata": {},
   "outputs": [],
   "source": [
    "agenteTest = Agent(env_name=\"LunarLander-v2\", episodes=15)\n",
    "agenteTest.train(is_training=False, render=True)"
   ]
  },
  {
   "cell_type": "code",
   "execution_count": 10,
   "metadata": {},
   "outputs": [
    {
     "data": {
      "image/png": "[encoded data removed]",
      "text/plain": [
       "<Figure size 640x480 with 1 Axes>"
      ]
     },
     "metadata": {},
     "output_type": "display_data"
    }
   ],
   "source": [
    "agenteTest.graficar()"
   ]
  }
 ],
 "metadata": {
  "kernelspec": {
   "display_name": "Python 3",
   "language": "python",
   "name": "python3"
  },
  "language_info": {
   "codemirror_mode": {
    "name": "ipython",
    "version": 3
   },
   "file_extension": ".py",
   "mimetype": "text/x-python",
   "name": "python",
   "nbconvert_exporter": "python",
   "pygments_lexer": "ipython3",
   "version": "3.12.0"
  }
 },
 "nbformat": 4,
 "nbformat_minor": 2
}

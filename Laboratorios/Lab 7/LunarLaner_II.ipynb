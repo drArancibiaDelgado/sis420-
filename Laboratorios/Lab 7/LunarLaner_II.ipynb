{
 "cells": [
  {
   "cell_type": "code",
   "execution_count": 1,
   "metadata": {},
   "outputs": [],
   "source": [
    "#Implementación incremental \n",
    "import gym\n",
    "import numpy as np\n",
    "import matplotlib.pyplot as plt\n",
    "import pickle\n",
    "\n",
    "class Agente:\n",
    "    def __init__(self, env_name, num_bins=10, episodes=10, learning_rate=0.5, discount_factor=0.95, epsilon=1, epsilon_decay_rate=0.0001, render=False):\n",
    "        self.env = gym.make(env_name, render_mode=\"human\" if render else None)\n",
    "        self.num_bins = num_bins\n",
    "        self.episodes = episodes\n",
    "        self.learning_rate = learning_rate\n",
    "        self.discount_factor = discount_factor\n",
    "        self.epsilon = epsilon\n",
    "        self.rewards_per_episode = np.zeros(episodes)\n",
    "        self.epsilon_decay_rate = epsilon_decay_rate\n",
    "        self.q_table = np.zeros([num_bins] * len(self.env.observation_space.low) + [self.env.action_space.n])\n",
    "        self.counts = np.zeros([num_bins] * len(self.env.observation_space.low) + [self.env.action_space.n])\n",
    "        self.rng = np.random.default_rng()\n",
    "        self.bins = self.create_bins()\n",
    "\n",
    "    def create_bins(self):\n",
    "        bins = []\n",
    "        for i in range(len(self.env.observation_space.low)):\n",
    "            bins.append(np.linspace(self.env.observation_space.low[i], self.env.observation_space.high[i], self.num_bins + 1)[1:-1])\n",
    "        return bins\n",
    "\n",
    "    def discretize_state(self, state):\n",
    "        discrete_state = tuple(\n",
    "            np.digitize(state[i], self.bins[i]) - 1 for i in range(len(state))\n",
    "        )\n",
    "        return discrete_state\n",
    "\n",
    "    def choose_action(self, state):\n",
    "        discrete_state = self.discretize_state(state)\n",
    "        if self.rng.random() < self.epsilon:\n",
    "            return self.env.action_space.sample()\n",
    "        else:\n",
    "            return np.argmax(self.q_table[discrete_state])\n",
    "\n",
    "    def update_q_table(self, state, action, reward, next_state):\n",
    "        discrete_state = self.discretize_state(state)\n",
    "        new_discrete_state = self.discretize_state(next_state)\n",
    "        self.counts[discrete_state + (action,)] += 1\n",
    "        alpha = 1 / self.counts[discrete_state + (action,)]\n",
    "        self.q_table[discrete_state + (action,)] += alpha * (\n",
    "            reward + self.discount_factor * np.max(self.q_table[new_discrete_state]) - self.q_table[discrete_state + (action,)]\n",
    "        )\n",
    "\n",
    "    def train(self, is_training=False, render=False):\n",
    "        self.env = gym.make(\"LunarLander-v2\", render_mode=\"human\" if render else None)\n",
    "        if not is_training:\n",
    "            with open(\"lunar_lander_II.pkl\", \"rb\") as f:\n",
    "                self.q_table = pickle.load(f)\n",
    "\n",
    "        for i in range(self.episodes):\n",
    "            state = self.env.reset()[0]\n",
    "            terminated = False\n",
    "            truncated = False\n",
    "            while not terminated and not truncated:\n",
    "                action = self.choose_action(state)\n",
    "                next_state, reward, terminated, truncated, _ = self.env.step(action)\n",
    "                if is_training:\n",
    "                    self.update_q_table(state, action, reward, next_state)\n",
    "                state = next_state\n",
    "            self.epsilon = max(self.epsilon - self.epsilon_decay_rate, 0)\n",
    "            self.rewards_per_episode[i] = reward\n",
    "            if (i+1) % 100 == 0:\n",
    "                print(f\"Episode: {i+1} - reward: {self.rewards_per_episode[i]}\")\n",
    "        self.env.close()\n",
    "        \n",
    "        if is_training:\n",
    "            with open(\"lunar_lander_II.pkl\", \"wb\") as f:\n",
    "                pickle.dump(self.q_table, f)\n",
    "\n",
    "    def graficar(self):\n",
    "        plt.plot(self.rewards_per_episode)\n",
    "        plt.xlabel(\"Episodios\")\n",
    "        plt.ylabel(\"Recompensa\")\n",
    "        plt.title(\"Recompensa por episodio\")\n",
    "        plt.show()\n",
    "        "
   ]
  },
  {
   "cell_type": "code",
   "execution_count": 2,
   "metadata": {},
   "outputs": [
    {
     "name": "stderr",
     "output_type": "stream",
     "text": [
      "c:\\Python312\\Lib\\site-packages\\gym\\utils\\passive_env_checker.py:233: DeprecationWarning: `np.bool8` is a deprecated alias for `np.bool_`.  (Deprecated NumPy 1.24)\n",
      "  if not isinstance(terminated, (bool, np.bool8)):\n"
     ]
    },
    {
     "name": "stdout",
     "output_type": "stream",
     "text": [
      "Episode: 100 - reward: -100.0\n",
      "Episode: 200 - reward: -100.0\n",
      "Episode: 300 - reward: -100.0\n",
      "Episode: 400 - reward: -100.0\n",
      "Episode: 500 - reward: -100.0\n",
      "Episode: 600 - reward: -100.0\n",
      "Episode: 700 - reward: -100.0\n",
      "Episode: 800 - reward: -100.0\n",
      "Episode: 900 - reward: -100.0\n",
      "Episode: 1000 - reward: -100.0\n",
      "Episode: 1100 - reward: -100.0\n",
      "Episode: 1200 - reward: -100.0\n",
      "Episode: 1300 - reward: -100.0\n",
      "Episode: 1400 - reward: -100.0\n",
      "Episode: 1500 - reward: -100.0\n",
      "Episode: 1600 - reward: -100.0\n",
      "Episode: 1700 - reward: -100.0\n",
      "Episode: 1800 - reward: -100.0\n",
      "Episode: 1900 - reward: -100.0\n",
      "Episode: 2000 - reward: -100.0\n",
      "Episode: 2100 - reward: -100.0\n",
      "Episode: 2200 - reward: -100.0\n",
      "Episode: 2300 - reward: -100.0\n",
      "Episode: 2400 - reward: -100.0\n",
      "Episode: 2500 - reward: -100.0\n",
      "Episode: 2600 - reward: -100.0\n",
      "Episode: 2700 - reward: -100.0\n",
      "Episode: 2800 - reward: -100.0\n",
      "Episode: 2900 - reward: -100.0\n",
      "Episode: 3000 - reward: -100.0\n",
      "Episode: 3100 - reward: -100.0\n",
      "Episode: 3200 - reward: -100.0\n",
      "Episode: 3300 - reward: -100.0\n",
      "Episode: 3400 - reward: -100.0\n",
      "Episode: 3500 - reward: -100.0\n",
      "Episode: 3600 - reward: -100.0\n",
      "Episode: 3700 - reward: -100.0\n",
      "Episode: 3800 - reward: -100.0\n",
      "Episode: 3900 - reward: -100.0\n",
      "Episode: 4000 - reward: -100.0\n",
      "Episode: 4100 - reward: -100.0\n",
      "Episode: 4200 - reward: -100.0\n",
      "Episode: 4300 - reward: -100.0\n",
      "Episode: 4400 - reward: -100.0\n",
      "Episode: 4500 - reward: -100.0\n",
      "Episode: 4600 - reward: -3.040125130139748\n",
      "Episode: 4700 - reward: -100.0\n",
      "Episode: 4800 - reward: -100.0\n",
      "Episode: 4900 - reward: -100.0\n",
      "Episode: 5000 - reward: -100.0\n"
     ]
    }
   ],
   "source": [
    "\n",
    "agenteTrain = Agente(env_name=\"LunarLander-v2\", episodes=5000)\n",
    "agenteTrain.train(is_training=True, render=False)"
   ]
  },
  {
   "cell_type": "code",
   "execution_count": 3,
   "metadata": {},
   "outputs": [
    {
     "data": {
      "image/png": "[encoded data removed]",
      "text/plain": [
       "<Figure size 640x480 with 1 Axes>"
      ]
     },
     "metadata": {},
     "output_type": "display_data"
    }
   ],
   "source": [
    "agenteTrain.graficar()"
   ]
  },
  {
   "cell_type": "code",
   "execution_count": 4,
   "metadata": {},
   "outputs": [],
   "source": [
    "agenteTest = Agente(\"LunarLander-v2\", episodes=5)\n",
    "agenteTest.train(is_training=False, render=True)"
   ]
  }
 ],
 "metadata": {
  "kernelspec": {
   "display_name": "Python 3",
   "language": "python",
   "name": "python3"
  },
  "language_info": {
   "codemirror_mode": {
    "name": "ipython",
    "version": 3
   },
   "file_extension": ".py",
   "mimetype": "text/x-python",
   "name": "python",
   "nbconvert_exporter": "python",
   "pygments_lexer": "ipython3",
   "version": "3.12.0"
  }
 },
 "nbformat": 4,
 "nbformat_minor": 2
}
